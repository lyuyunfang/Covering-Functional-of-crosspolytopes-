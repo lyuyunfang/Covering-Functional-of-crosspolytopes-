{
 "cells": [
  {
   "cell_type": "code",
   "execution_count": 5,
   "id": "a6035d91-a585-472e-b88e-55ab9fd90f64",
   "metadata": {},
   "outputs": [
    {
     "name": "stdout",
     "output_type": "stream",
     "text": [
      "Vertices of T1 ∩ H1: [[5, 2, 6], [5, 6, 2], [1, 6, 6]]\n",
      "Vertices of T2 ∩ H2: [[5, 2, -6], [5, 6, -2], [1, 6, -6]]\n",
      "A vertex at (3, 3, 1)\n",
      "A vertex at (3, 1, 3)\n",
      "A vertex at (1, 1, 1)\n",
      "A vertex at (1, 3, 3)\n"
     ]
    }
   ],
   "source": [
    "\n",
    "# Verification of Lemma 14\n",
    "\n",
    "# H1 = H_{f_4, 3}^{+} and H2 = H_{-f_3, 3}^{+}\n",
    "H1 = Polyhedron(ieqs=[[-3, -1, 1, 1]])\n",
    "H2 = Polyhedron(ieqs=[[-3, -1, 1, -1]])\n",
    "\n",
    "# The Vertex-representation of T_1 and T_2\n",
    "T1 = Polyhedron(vertices=[(1, 6, 6), (6, 1, 6), (6, 6, 1)])\n",
    "T2 = Polyhedron(vertices=[(1, 6, -6), (6, 1, -6), (6, 6, -1)])\n",
    "\n",
    "T1_H1 = T1.intersection(H1)\n",
    "T2_H2 = T2.intersection(H2)\n",
    "\n",
    "# Print the vertices of the intersections\n",
    "print(f\"Vertices of T1 ∩ H1: {T1_H1.vertices_list()}\")\n",
    "print(f\"Vertices of T2 ∩ H2: {T2_H2.vertices_list()}\")\n",
    "\n",
    "\n",
    "# Verification of Lemma 17\n",
    "\n",
    "S1 = Polyhedron(vertices=[[6, 1, 6], [1, 6, 6], [6, 6, 1], [1, 1, 1]])\n",
    "\n",
    "#H12 = H_{-f_1, -7}^{+} = H_{f_1, 7}^{-}\n",
    "H12 = Polyhedron(ieqs=[(7, -1, -1, -1)])\n",
    "S1.intersection(H12)\n",
    "\n",
    "# EXT (S1 \\cap H_{f_1, 7}^{-}).\n",
    "for q in S1.intersection(H12).Vrepresentation():\n",
    "    print(q)"
   ]
  },
  {
   "cell_type": "code",
   "execution_count": null,
   "id": "d3f0bdf1-a262-43ff-b23e-fc6d623e775f",
   "metadata": {},
   "outputs": [],
   "source": []
  }
 ],
 "metadata": {
  "kernelspec": {
   "display_name": "SageMath 10.4",
   "language": "sage",
   "name": "sagemath"
  },
  "language_info": {
   "codemirror_mode": {
    "name": "ipython",
    "version": 3
   },
   "file_extension": ".py",
   "mimetype": "text/x-python",
   "name": "python",
   "nbconvert_exporter": "python",
   "pygments_lexer": "ipython3",
   "version": "3.11.10"
  }
 },
 "nbformat": 4,
 "nbformat_minor": 5
}
